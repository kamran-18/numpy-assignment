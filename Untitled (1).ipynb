{
 "cells": [
  {
   "cell_type": "code",
   "execution_count": 1,
   "id": "1ff64030-2ea1-4919-95aa-13a16bbd7cfd",
   "metadata": {},
   "outputs": [
    {
     "data": {
      "text/plain": [
       "\"Python libraries are like toolboxes filled with pre-made tools to help us solve\\ndifferent problems in programming. We use them because they save us time by providing\\nready-made solutions for common tasks, they give us access to specialized functions for \\nspecific jobs, and they make it easier to collaborate with other developers by standardizing\\nhow we do things. Basically, they're like shortcuts that make coding faster, easier, and more efficient\""
      ]
     },
     "execution_count": 1,
     "metadata": {},
     "output_type": "execute_result"
    }
   ],
   "source": [
    "#question 1 answer\n",
    "\n",
    "'''Python libraries are like toolboxes filled with pre-made tools to help us solve\n",
    "different problems in programming. We use them because they save us time by providing\n",
    "ready-made solutions for common tasks, they give us access to specialized functions for \n",
    "specific jobs, and they make it easier to collaborate with other developers by standardizing\n",
    "how we do things. Basically, they're like shortcuts that make coding faster, easier, and more efficient'''"
   ]
  },
  {
   "cell_type": "code",
   "execution_count": 2,
   "id": "98931f2e-302e-4553-b462-b6e512a80694",
   "metadata": {},
   "outputs": [
    {
     "data": {
      "text/plain": [
       "'Data Types: NumPy arrays are designed to hold elements of the same data type, \\nlike all integers or all floats. In contrast, lists can contain elements of different\\ntypes within the same list.\\n\\n\\nPerformance: NumPy arrays are highly optimized for numerical operations and large datasets,\\nmaking them faster and more memory-efficient compared to lists. This is because NumPy arrays\\nare implemented in C, while lists are native Python objects.\\n\\n\\nFunctionality: NumPy arrays provide a wide range of mathematical functions and operations for \\nnumerical computing, such as matrix operations, linear algebra, and statistical functions. \\nLists offer fewer built-in functions and are more general-purpose in nature.\\n\\n\\nIndexing and Slicing: NumPy arrays support advanced indexing and slicing techniques, \\nallowing for efficient data manipulation and extraction of elements. While lists also \\nsupport indexing and slicing, they may not be as efficient, especially for large datasets\\n.\\nMemory Contiguity: NumPy arrays are stored in contiguous memory blocks, enabling \\nfaster access to elements and better memory utilization. Lists, however, are stored as\\nseparate objects in memory, which can result in slower access times, particularly for large list'"
      ]
     },
     "execution_count": 2,
     "metadata": {},
     "output_type": "execute_result"
    }
   ],
   "source": [
    "'''Data Types: NumPy arrays are designed to hold elements of the same data type, \n",
    "like all integers or all floats. In contrast, lists can contain elements of different\n",
    "types within the same list.\n",
    "\n",
    "\n",
    "Performance: NumPy arrays are highly optimized for numerical operations and large datasets,\n",
    "making them faster and more memory-efficient compared to lists. This is because NumPy arrays\n",
    "are implemented in C, while lists are native Python objects.\n",
    "\n",
    "\n",
    "Functionality: NumPy arrays provide a wide range of mathematical functions and operations for \n",
    "numerical computing, such as matrix operations, linear algebra, and statistical functions. \n",
    "Lists offer fewer built-in functions and are more general-purpose in nature.\n",
    "\n",
    "\n",
    "Indexing and Slicing: NumPy arrays support advanced indexing and slicing techniques, \n",
    "allowing for efficient data manipulation and extraction of elements. While lists also \n",
    "support indexing and slicing, they may not be as efficient, especially for large datasets\n",
    ".\n",
    "Memory Contiguity: NumPy arrays are stored in contiguous memory blocks, enabling \n",
    "faster access to elements and better memory utilization. Lists, however, are stored as\n",
    "separate objects in memory, which can result in slower access times, particularly for large list'''"
   ]
  },
  {
   "cell_type": "code",
   "execution_count": 10,
   "id": "53933c36-c820-405d-a837-ba122330de6e",
   "metadata": {},
   "outputs": [],
   "source": [
    "#question3\n",
    "import numpy as np\n",
    "arr=np.array([[1,2,3,4],\n",
    "    [5,6,7,8],\n",
    "    [9,10,11,12]])"
   ]
  },
  {
   "cell_type": "code",
   "execution_count": 14,
   "id": "99827b1c-a892-44f6-a4f4-23969308dead",
   "metadata": {},
   "outputs": [
    {
     "data": {
      "text/plain": [
       "(3, 4)"
      ]
     },
     "execution_count": 14,
     "metadata": {},
     "output_type": "execute_result"
    }
   ],
   "source": [
    "arr.shape\n",
    "\n",
    "#to check the shape we usee above function i got answer = (3,4)"
   ]
  },
  {
   "cell_type": "code",
   "execution_count": 15,
   "id": "07ef17b8-b7c2-4939-857f-3740ca469319",
   "metadata": {},
   "outputs": [
    {
     "data": {
      "text/plain": [
       "12"
      ]
     },
     "execution_count": 15,
     "metadata": {},
     "output_type": "execute_result"
    }
   ],
   "source": [
    "arr.size\n",
    "\n",
    "# to check the size we use above function n igot answer=(12)"
   ]
  },
  {
   "cell_type": "code",
   "execution_count": 16,
   "id": "c315d0eb-5b2e-4885-a63d-e737f002972f",
   "metadata": {},
   "outputs": [
    {
     "data": {
      "text/plain": [
       "2"
      ]
     },
     "execution_count": 16,
     "metadata": {},
     "output_type": "execute_result"
    }
   ],
   "source": [
    "arr.ndim\n",
    "\n",
    "#to check dimesntion we use above function n i got answer = (2)"
   ]
  },
  {
   "cell_type": "code",
   "execution_count": 17,
   "id": "132fbbf3-8c1e-4061-ba1f-a49c796c607d",
   "metadata": {},
   "outputs": [],
   "source": [
    "#question 4\n",
    "arr1=np.array([[1,2,3,4],\n",
    "              [5,6,7,8],\n",
    "              [9,10,11,12]])\n",
    "\n",
    "\n"
   ]
  },
  {
   "cell_type": "code",
   "execution_count": 18,
   "id": "8360a0b8-16e8-4edf-9091-4741d4b04c02",
   "metadata": {},
   "outputs": [
    {
     "data": {
      "text/plain": [
       "array([[ 1,  2,  3,  4],\n",
       "       [ 5,  6,  7,  8],\n",
       "       [ 9, 10, 11, 12]])"
      ]
     },
     "execution_count": 18,
     "metadata": {},
     "output_type": "execute_result"
    }
   ],
   "source": [
    "arr1"
   ]
  },
  {
   "cell_type": "code",
   "execution_count": 20,
   "id": "42b580c2-46e9-4328-9ab3-1b653a4b7fdb",
   "metadata": {},
   "outputs": [
    {
     "data": {
      "text/plain": [
       "array([1, 2, 3, 4])"
      ]
     },
     "execution_count": 20,
     "metadata": {},
     "output_type": "execute_result"
    }
   ],
   "source": [
    "arr1[0]\n",
    "\n",
    "#to access the first row of colum"
   ]
  },
  {
   "cell_type": "code",
   "execution_count": 21,
   "id": "9814e136-3328-4f13-9ab0-be5cd3b678df",
   "metadata": {},
   "outputs": [],
   "source": [
    "#question 5\n",
    "arr2=np.array([[1,2,3,4],\n",
    "              [5,6,7,8],\n",
    "              [9,10,11,12]])\n"
   ]
  },
  {
   "cell_type": "code",
   "execution_count": 22,
   "id": "0d435f60-2915-4fcc-bc22-97e45873fdaf",
   "metadata": {},
   "outputs": [
    {
     "data": {
      "text/plain": [
       "array([[ 1,  2,  3,  4],\n",
       "       [ 5,  6,  7,  8],\n",
       "       [ 9, 10, 11, 12]])"
      ]
     },
     "execution_count": 22,
     "metadata": {},
     "output_type": "execute_result"
    }
   ],
   "source": [
    "arr2"
   ]
  },
  {
   "cell_type": "code",
   "execution_count": 33,
   "id": "136ea81f-69f1-414d-bfd5-41be3dee076a",
   "metadata": {},
   "outputs": [
    {
     "data": {
      "text/plain": [
       "12"
      ]
     },
     "execution_count": 33,
     "metadata": {},
     "output_type": "execute_result"
    }
   ],
   "source": [
    "arr2[2,3]"
   ]
  },
  {
   "cell_type": "code",
   "execution_count": 34,
   "id": "7005ec2e-5c55-4e4f-8f3a-696bc8c8b0f2",
   "metadata": {},
   "outputs": [
    {
     "data": {
      "text/plain": [
       "array([[0, 0, 0],\n",
       "       [0, 0, 0],\n",
       "       [0, 0, 0]])"
      ]
     },
     "execution_count": 34,
     "metadata": {},
     "output_type": "execute_result"
    }
   ],
   "source": [
    "#question 7\n",
    "\n",
    "np.random.randint(0,1,(3,3))\n",
    "\n",
    "\n"
   ]
  },
  {
   "cell_type": "code",
   "execution_count": 39,
   "id": "f7d43c4f-3ec1-4b9f-b6ac-b9760d1563f7",
   "metadata": {},
   "outputs": [
    {
     "data": {
      "text/plain": [
       "'np.random.rand generates random numbers from a uniform distribution, \\nwhile np.random.randn generates random numbers from a standard normal \\ndistribution. Depending on your application, you would choose one over\\nthe other based on the desired distribution of the random numbers.'"
      ]
     },
     "execution_count": 39,
     "metadata": {},
     "output_type": "execute_result"
    }
   ],
   "source": [
    "# question 8\n",
    "\n",
    "\"\"\"np.random.rand generates random numbers from a uniform distribution, \n",
    "while np.random.randn generates random numbers from a standard normal \n",
    "distribution. Depending on your application, you would choose one over\n",
    "the other based on the desired distribution of the random numbers.\"\"\""
   ]
  },
  {
   "cell_type": "code",
   "execution_count": 38,
   "id": "780780c3-577b-4f3d-bfef-e7b892fbb826",
   "metadata": {},
   "outputs": [],
   "source": [
    "#question 9\n",
    "\n",
    "arr3=np.array([[1,2,3,4],\n",
    "              [5,6,7,8],\n",
    "              [9,10,11,12]])"
   ]
  },
  {
   "cell_type": "code",
   "execution_count": 37,
   "id": "23a30d86-f773-4205-b7cd-8e607d065de2",
   "metadata": {},
   "outputs": [
    {
     "data": {
      "text/plain": [
       "array([[[ 1,  2,  3,  4],\n",
       "        [ 5,  6,  7,  8],\n",
       "        [ 9, 10, 11, 12]]])"
      ]
     },
     "execution_count": 37,
     "metadata": {},
     "output_type": "execute_result"
    }
   ],
   "source": [
    "np.expand_dims(arr,axis=0)\n",
    "\n",
    "#used to increase  the dimensions "
   ]
  },
  {
   "cell_type": "code",
   "execution_count": 40,
   "id": "65ba1daf-acd8-44b0-af15-fe75b9b90aac",
   "metadata": {},
   "outputs": [],
   "source": [
    "#quiestion 10\n",
    "\n",
    "arr5=np.array([[1,2,3,4],\n",
    "              [5,6,7,8],\n",
    "              [9,10,11,12]])"
   ]
  },
  {
   "cell_type": "code",
   "execution_count": 42,
   "id": "9fbfadb5-369f-43ca-85ef-61745433dd7b",
   "metadata": {},
   "outputs": [
    {
     "data": {
      "text/plain": [
       "array([[ 1,  5,  9],\n",
       "       [ 2,  6, 10],\n",
       "       [ 3,  7, 11],\n",
       "       [ 4,  8, 12]])"
      ]
     },
     "execution_count": 42,
     "metadata": {},
     "output_type": "execute_result"
    }
   ],
   "source": [
    "arr5.T\n",
    "\n",
    "#USED TO TRANSPOSE"
   ]
  },
  {
   "cell_type": "code",
   "execution_count": 52,
   "id": "836df1fd-16b9-4b3d-93fd-c64cb6d322b0",
   "metadata": {},
   "outputs": [],
   "source": [
    "# QUEWSTION 11\n",
    "A1=np.array([[1, 2, 3, 4], [5, 6, 7, 8],[9, 10, 11, 12]])\n",
    "B1=np.array([[1, 2, 3, 4], [5, 6, 7, 8],[9, 10, 11, 12]])\n"
   ]
  },
  {
   "cell_type": "code",
   "execution_count": 48,
   "id": "db184f30-cd28-433e-be13-b934b3f8eaa2",
   "metadata": {},
   "outputs": [
    {
     "data": {
      "text/plain": [
       "array([[  1,   4,   9,  16],\n",
       "       [ 25,  36,  49,  64],\n",
       "       [ 81, 100, 121, 144]])"
      ]
     },
     "execution_count": 48,
     "metadata": {},
     "output_type": "execute_result"
    }
   ],
   "source": [
    "# index multiplication\n",
    "A1 * B1"
   ]
  },
  {
   "cell_type": "code",
   "execution_count": 57,
   "id": "3999eb92-f707-4b7c-9b2e-397d3a43851b",
   "metadata": {},
   "outputs": [
    {
     "data": {
      "text/plain": [
       "array([[ 1,  2,  3,  4],\n",
       "       [ 5,  6,  7,  8],\n",
       "       [ 9, 10, 11, 12]])"
      ]
     },
     "execution_count": 57,
     "metadata": {},
     "output_type": "execute_result"
    }
   ],
   "source": [
    "#Matix multiplicatioN\n",
    "A1"
   ]
  },
  {
   "cell_type": "code",
   "execution_count": 55,
   "id": "ad2f672b-f13b-454b-9bb9-4acd4ae713d8",
   "metadata": {},
   "outputs": [
    {
     "data": {
      "text/plain": [
       "array([[ 1,  5,  9],\n",
       "       [ 2,  6, 10],\n",
       "       [ 3,  7, 11],\n",
       "       [ 4,  8, 12]])"
      ]
     },
     "execution_count": 55,
     "metadata": {},
     "output_type": "execute_result"
    }
   ],
   "source": [
    "B1.T"
   ]
  },
  {
   "cell_type": "code",
   "execution_count": 59,
   "id": "071ae13c-9440-451b-80f7-4c1c4cf3d59c",
   "metadata": {},
   "outputs": [
    {
     "data": {
      "text/plain": [
       "array([[ 30,  70, 110],\n",
       "       [ 70, 174, 278],\n",
       "       [110, 278, 446]])"
      ]
     },
     "execution_count": 59,
     "metadata": {},
     "output_type": "execute_result"
    }
   ],
   "source": [
    "A1 @ B1.T\n",
    "\n",
    "#FOR MATRX MULTIPLICATION IN ORDER TO SATISFY THE CONDITION I USED ABOVE TRANSPOSE FUNCTION"
   ]
  },
  {
   "cell_type": "code",
   "execution_count": 60,
   "id": "aed2561c-a22f-4949-be9b-867b63d5aa0a",
   "metadata": {},
   "outputs": [
    {
     "data": {
      "text/plain": [
       "array([[ 2,  4,  6,  8],\n",
       "       [10, 12, 14, 16],\n",
       "       [18, 20, 22, 24]])"
      ]
     },
     "execution_count": 60,
     "metadata": {},
     "output_type": "execute_result"
    }
   ],
   "source": [
    "A1+B1"
   ]
  },
  {
   "cell_type": "code",
   "execution_count": 61,
   "id": "ec82bf61-c261-4f5b-8902-4fa1d82e7efd",
   "metadata": {},
   "outputs": [
    {
     "data": {
      "text/plain": [
       "array([[0, 0, 0, 0],\n",
       "       [0, 0, 0, 0],\n",
       "       [0, 0, 0, 0]])"
      ]
     },
     "execution_count": 61,
     "metadata": {},
     "output_type": "execute_result"
    }
   ],
   "source": [
    "B1-A1"
   ]
  },
  {
   "cell_type": "code",
   "execution_count": 62,
   "id": "4b25a811-4c68-4cc5-9b37-c58d41258274",
   "metadata": {},
   "outputs": [
    {
     "data": {
      "text/plain": [
       "array([[1., 1., 1., 1.],\n",
       "       [1., 1., 1., 1.],\n",
       "       [1., 1., 1., 1.]])"
      ]
     },
     "execution_count": 62,
     "metadata": {},
     "output_type": "execute_result"
    }
   ],
   "source": [
    "B1/A1"
   ]
  },
  {
   "cell_type": "code",
   "execution_count": 63,
   "id": "ca0c23c9-95bc-46a7-a44a-36c3b5dda0f2",
   "metadata": {},
   "outputs": [
    {
     "data": {
      "text/plain": [
       "'In NumPy, the function np.ndarray.byteswap() can be used to swap \\nthe byte order of an array. This function swaps the byte order of\\nthe elements of the array in-place, which means it modifies the original array'"
      ]
     },
     "execution_count": 63,
     "metadata": {},
     "output_type": "execute_result"
    }
   ],
   "source": [
    "#QUESTION 12\n",
    "\n",
    "'''In NumPy, the function np.ndarray.byteswap() can be used to swap \n",
    "the byte order of an array. This function swaps the byte order of\n",
    "the elements of the array in-place, which means it modifies the original array'''"
   ]
  },
  {
   "cell_type": "code",
   "execution_count": 64,
   "id": "e653b17c-ead9-4c68-a0c4-7b3536b18842",
   "metadata": {},
   "outputs": [
    {
     "data": {
      "text/plain": [
       "'The np.linalg.inv function in NumPy is used to compute the \\ninverse of a square matrix. The significance of this function\\nlies in its utility in solving systems of linear equations and \\nperforming various mathematical operations in linear algebra.'"
      ]
     },
     "execution_count": 64,
     "metadata": {},
     "output_type": "execute_result"
    }
   ],
   "source": [
    "# question 13\n",
    "\n",
    "'''The np.linalg.inv function in NumPy is used to compute the \n",
    "inverse of a square matrix. The significance of this function\n",
    "lies in its utility in solving systems of linear equations and \n",
    "performing various mathematical operations in linear algebra.'''"
   ]
  },
  {
   "cell_type": "code",
   "execution_count": null,
   "id": "f2c7314d-b3ee-49fa-9393-2f01615e3fc9",
   "metadata": {},
   "outputs": [],
   "source": [
    "#question 14\n",
    "\n",
    "'''The np.reshape function in NumPy is used to change the shape of an \n",
    "array without changing its data. It allows you to specify a new shape\n",
    "for the array while ensuring that the total number of elements remains the same.'''\n",
    "\n",
    "\n",
    "arr6=np.array({})"
   ]
  }
 ],
 "metadata": {
  "kernelspec": {
   "display_name": "Python 3 (ipykernel)",
   "language": "python",
   "name": "python3"
  },
  "language_info": {
   "codemirror_mode": {
    "name": "ipython",
    "version": 3
   },
   "file_extension": ".py",
   "mimetype": "text/x-python",
   "name": "python",
   "nbconvert_exporter": "python",
   "pygments_lexer": "ipython3",
   "version": "3.10.8"
  }
 },
 "nbformat": 4,
 "nbformat_minor": 5
}
